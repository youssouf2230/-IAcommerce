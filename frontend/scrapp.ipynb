{
 "cells": [
  {
   "cell_type": "code",
   "execution_count": 3,
   "id": "ac87c014",
   "metadata": {},
   "outputs": [],
   "source": [
    "import requests\n",
    "from bs4 import BeautifulSoup\n",
    "from urllib.parse import urljoin\n"
   ]
  },
  {
   "cell_type": "code",
   "execution_count": 8,
   "id": "f02558f7",
   "metadata": {},
   "outputs": [],
   "source": [
    "\n",
    "\n",
    "def scrape(url):\n",
    "    try:\n",
    "        response = requests.get(url)\n",
    "        response.raise_for_status()\n",
    "        soup = BeautifulSoup(response.text, 'html.parser')\n",
    "\n",
    "        container = soup.find(class_='category-cards')\n",
    "        if not container:\n",
    "            print(\"❌ No element with class 'blade-category-cards' found.\")\n",
    "            return [], []\n",
    "\n",
    "        # Get all image URLs inside this container\n",
    "        images = []\n",
    "        for img in container.find_all('img'):\n",
    "            src = img.get('src')\n",
    "            if src:\n",
    "                full_src = urljoin(url, src)\n",
    "                images.append(full_src)\n",
    "\n",
    "        # Get all paragraph texts inside this container\n",
    "        paragraphs = [p.get_text(strip=True) for p in container.find_all('p')]\n",
    "\n",
    "        return images, paragraphs\n",
    "\n",
    "    except Exception as e:\n",
    "        print(f\"Error occurred: {e}\")\n",
    "        return [], []\n",
    "\n",
    "\n"
   ]
  },
  {
   "cell_type": "code",
   "execution_count": 17,
   "id": "ac7df569",
   "metadata": {},
   "outputs": [
    {
     "name": "stdout",
     "output_type": "stream",
     "text": [
      "Found image URLs:\n"
     ]
    }
   ],
   "source": [
    "# Example usage\n",
    "url = \"https://www.logitech.com/fr-fr\"  # Replace with the site you want to scrape\n",
    "images,paragraphs = scrape(url)\n",
    "category=[]\n",
    "\n",
    "print(\"Found image URLs:\")\n",
    "for img_url,paragraph in zip(images,paragraphs):\n",
    "\n",
    "     category.append({\n",
    "        \"image\": img_url,\n",
    "        \"paragraph\": paragraph\n",
    "    })"
   ]
  },
  {
   "cell_type": "code",
   "execution_count": 18,
   "id": "aec33c97",
   "metadata": {},
   "outputs": [
    {
     "data": {
      "text/plain": [
       "[{'image': 'https://resource.logitech.com/w_300,h_300,ar_1,c_fill,q_auto,f_auto,dpr_1.0/d_transparent.gif/content/dam/logitech/en/homepage/delorean-hp/products-with-background/new-images/keyboards.png',\n",
       "  'paragraph': 'Claviers'},\n",
       " {'image': 'https://resource.logitech.com/w_300,h_300,ar_1,c_fill,q_auto,f_auto,dpr_1.0/d_transparent.gif/content/dam/logitech/en/homepage/delorean-hp/products-with-background/new-images/combos.png',\n",
       "  'paragraph': 'Ensembles'},\n",
       " {'image': 'https://resource.logitech.com/w_300,h_300,ar_1,c_fill,q_auto,f_auto,dpr_1.0/d_transparent.gif/content/dam/logitech/en/homepage/delorean-hp/products-with-background/new-images/mice.png',\n",
       "  'paragraph': 'Souris'},\n",
       " {'image': 'https://resource.logitech.com/w_300,h_300,ar_1,c_fill,q_auto,f_auto,dpr_1.0/d_transparent.gif/content/dam/logitech/en/homepage/delorean-hp/products-with-background/new-images/speakers.png',\n",
       "  'paragraph': 'Haut-parleurs'},\n",
       " {'image': 'https://resource.logitech.com/w_300,h_300,ar_1,c_fill,q_auto,f_auto,dpr_1.0/d_transparent.gif/content/dam/logitech/en/homepage/delorean-hp/products-with-background/new-images/conference-room-cameras.png',\n",
       "  'paragraph': 'CamÃ©ras de confÃ©rence'},\n",
       " {'image': 'https://resource.logitech.com/w_300,h_300,ar_1,c_fill,q_auto,f_auto,dpr_1.0/d_transparent.gif/content/dam/logitech/en/homepage/delorean-hp/products-with-background/new-images/driving-simulation.png',\n",
       "  'paragraph': 'Volants'},\n",
       " {'image': 'https://resource.logitech.com/w_300,h_300,ar_1,c_fill,q_auto,f_auto,dpr_1.0/d_transparent.gif/content/dam/logitech/en/homepage/delorean-hp/products-with-background/new-images/headsets-earbuds.png',\n",
       "  'paragraph': 'Casques-micro'},\n",
       " {'image': 'https://resource.logitech.com/w_300,h_300,ar_1,c_fill,q_auto,f_auto,dpr_1.0/d_transparent.gif/content/dam/logitech/en/homepage/delorean-hp/products-with-background/new-images/lighting.png',\n",
       "  'paragraph': 'Ã\\x89clairage'},\n",
       " {'image': 'https://resource.logitech.com/w_300,h_300,ar_1,c_fill,q_auto,f_auto,dpr_1.0/d_transparent.gif/content/dam/logitech/en/homepage/delorean-hp/products-with-background/new-images/webcams.png',\n",
       "  'paragraph': 'Webcams'},\n",
       " {'image': 'https://resource.logitech.com/w_300,h_300,ar_1,c_fill,q_auto,f_auto,dpr_1.0/d_transparent.gif/content/dam/logitech/en/homepage/delorean-hp/products-with-background/new-images/microphones.png',\n",
       "  'paragraph': 'Microphones'},\n",
       " {'image': 'https://resource.logitech.com/w_300,h_300,ar_1,c_fill,q_auto,f_auto,dpr_1.0/d_transparent.gif/content/dam/logitech/en/homepage/delorean-hp/products-with-background/new-images/mobile-devices.png',\n",
       "  'paragraph': 'Ã\\x89tuis clavier pour iPad'},\n",
       " {'image': 'https://resource.logitech.com/w_300,h_300,ar_1,c_fill,q_auto,f_auto,dpr_1.0/d_transparent.gif/content/dam/logitech/en/homepage/delorean-hp/products-with-background/new-images/accessories.png',\n",
       "  'paragraph': 'Accessoires'}]"
      ]
     },
     "execution_count": 18,
     "metadata": {},
     "output_type": "execute_result"
    }
   ],
   "source": [
    "category"
   ]
  }
 ],
 "metadata": {
  "kernelspec": {
   "display_name": "myenv",
   "language": "python",
   "name": "python3"
  },
  "language_info": {
   "codemirror_mode": {
    "name": "ipython",
    "version": 3
   },
   "file_extension": ".py",
   "mimetype": "text/x-python",
   "name": "python",
   "nbconvert_exporter": "python",
   "pygments_lexer": "ipython3",
   "version": "3.10.18"
  }
 },
 "nbformat": 4,
 "nbformat_minor": 5
}
